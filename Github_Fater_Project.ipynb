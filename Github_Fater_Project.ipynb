{
  "nbformat": 4,
  "nbformat_minor": 0,
  "metadata": {
    "colab": {
      "provenance": [],
      "authorship_tag": "ABX9TyNhy62eabExrUgJC+mukcd7",
      "include_colab_link": true
    },
    "kernelspec": {
      "name": "python3",
      "display_name": "Python 3"
    },
    "language_info": {
      "name": "python"
    }
  },
  "cells": [
    {
      "cell_type": "markdown",
      "metadata": {
        "id": "view-in-github",
        "colab_type": "text"
      },
      "source": [
        "<a href=\"https://colab.research.google.com/github/NiloofarSoltani-2/Fater_Consumption_Analysis/blob/main/Github_Fater_Project.ipynb\" target=\"_parent\"><img src=\"https://colab.research.google.com/assets/colab-badge.svg\" alt=\"Open In Colab\"/></a>"
      ]
    },
    {
      "cell_type": "code",
      "execution_count": 1,
      "metadata": {
        "colab": {
          "base_uri": "https://localhost:8080/"
        },
        "id": "ktwQ7fWLIzUs",
        "outputId": "d214d740-77d4-4181-ae2f-650e69a91517"
      },
      "outputs": [
        {
          "output_type": "stream",
          "name": "stdout",
          "text": [
            "Requirement already satisfied: pandas in /usr/local/lib/python3.10/dist-packages (2.2.2)\n",
            "Requirement already satisfied: openpyxl in /usr/local/lib/python3.10/dist-packages (3.1.5)\n",
            "Requirement already satisfied: numpy>=1.22.4 in /usr/local/lib/python3.10/dist-packages (from pandas) (1.26.4)\n",
            "Requirement already satisfied: python-dateutil>=2.8.2 in /usr/local/lib/python3.10/dist-packages (from pandas) (2.8.2)\n",
            "Requirement already satisfied: pytz>=2020.1 in /usr/local/lib/python3.10/dist-packages (from pandas) (2024.2)\n",
            "Requirement already satisfied: tzdata>=2022.7 in /usr/local/lib/python3.10/dist-packages (from pandas) (2024.2)\n",
            "Requirement already satisfied: et-xmlfile in /usr/local/lib/python3.10/dist-packages (from openpyxl) (2.0.0)\n",
            "Requirement already satisfied: six>=1.5 in /usr/local/lib/python3.10/dist-packages (from python-dateutil>=2.8.2->pandas) (1.17.0)\n"
          ]
        }
      ],
      "source": [
        "# @title\n",
        "from google.colab import files\n",
        "import pandas as pd\n",
        "import re\n",
        "import os\n",
        "from google.colab import files # for exporting dataset as an excel file\n",
        "import seaborn as sns\n",
        "import matplotlib.pyplot as plt\n",
        "!pip install pandas openpyxl"
      ]
    },
    {
      "cell_type": "markdown",
      "source": [
        "## **Merging 66 Excel Files**\n",
        "\n",
        "*   **List All The Columns In Both DATASETS**\n",
        "*   **Change Columns name (specially Date columns ((key columns)))**\n",
        "*   **Export Dataset Seperatly**"
      ],
      "metadata": {
        "id": "n-sEf5wf5Zbd"
      }
    },
    {
      "cell_type": "code",
      "source": [
        "# Define the directory containing your Excel files\n",
        "directory_path = '/content/sample_data'  # Replace with your directory path\n",
        "\n",
        "# List all Excel files in the directory\n",
        "excel_files = [f for f in os.listdir(directory_path) if f.endswith('.xls')]\n",
        "\n",
        "# Create an empty list to store individual DataFrames\n",
        "df_list = []\n",
        "\n",
        "# Loop over each file and process it\n",
        "for file in excel_files:\n",
        "    # Build the full file path\n",
        "    file_path = os.path.join(directory_path, file)\n",
        "\n",
        "    # Read the Excel file\n",
        "    df = pd.read_excel(file_path)\n",
        "\n",
        "    # Add a new column for the source file\n",
        "    df['source_file'] = file\n",
        "\n",
        "    # Rename 'Tempo' column to 'tempo_standardized'\n",
        "    df.rename(columns={'Tempo': 'Date'}, inplace=True)\n",
        "\n",
        "\n",
        "    # Dynamically find and rename the kWh column using regex\n",
        "    kwh_col = next((col for col in df.columns if re.search(r'kwh|[kwh]|[Kwh]|EATT', col, re.IGNORECASE)), None)\n",
        "    if kwh_col:\n",
        "        df.rename(columns={kwh_col: 'kwh_standardized'}, inplace=True)\n",
        "    else:\n",
        "        print(f\"Warning: Could not find kWh column in file: {file}\")\n",
        "        # Handle the case where no kWh column is found (e.g., skip the file, assign a default value)\n",
        "\n",
        "    # Append the DataFrame to the list\n",
        "    df_list.append(df)\n",
        "\n",
        "# Concatenate all DataFrames into one\n",
        "combined_df = pd.concat(df_list, ignore_index=True)\n",
        "\n",
        "# Now select the standardized column names\n",
        "combined_df = combined_df[['Date', 'kwh_standardized', 'source_file']]\n",
        "\n",
        "\n",
        "\n",
        "# Rename columns to the desired format (if needed)\n",
        "#combined_df = combined_df[['tempo', 'kwh', 'source_file']]\n",
        "\n",
        "# # Set the option to display all rows (if you need to see all records)\n",
        "# pd.set_option('display.max_rows', None)\n",
        "\n",
        "# Display the combined dataset\n",
        "print(combined_df)\n",
        "\n",
        "# Optionally, save the combined dataset to a new Excel file\n",
        "combined_df.to_excel('/content/sample_data/outputs/combined_dataset_66excels.xlsx', index=False)\n",
        "\n",
        "# Check the structure of the dataset\n",
        "print(combined_df.info())  # Columns, data types, non-null counts"
      ],
      "metadata": {
        "colab": {
          "base_uri": "https://localhost:8080/"
        },
        "id": "2mvHivEKMp2V",
        "outputId": "cca7fa51-383c-419a-9a74-32185ad8d5fa",
        "collapsed": true
      },
      "execution_count": 3,
      "outputs": [
        {
          "output_type": "stream",
          "name": "stdout",
          "text": [
            "                       Date  kwh_standardized      source_file\n",
            "0       2018-09-05 00:00:00      1.087410e+03        FIX_4.xls\n",
            "1       2018-09-06 00:00:00      1.064330e+03        FIX_4.xls\n",
            "2       2018-09-07 00:00:00      1.692580e+03        FIX_4.xls\n",
            "3       2018-09-08 00:00:00      6.876600e+02        FIX_4.xls\n",
            "4       2018-09-09 00:00:00      0.000000e+00        FIX_4.xls\n",
            "...                     ...               ...              ...\n",
            "147192  2024-10-26 00:00:00      5.154900e+02  CTRL_IDRICA.xls\n",
            "147193  2024-10-27 00:00:00      4.972800e+02  CTRL_IDRICA.xls\n",
            "147194  2024-10-28 00:00:00      5.415500e+02  CTRL_IDRICA.xls\n",
            "147195                Media      6.020933e+02  CTRL_IDRICA.xls\n",
            "147196               Totale      1.392040e+06  CTRL_IDRICA.xls\n",
            "\n",
            "[147197 rows x 3 columns]\n",
            "<class 'pandas.core.frame.DataFrame'>\n",
            "RangeIndex: 147197 entries, 0 to 147196\n",
            "Data columns (total 3 columns):\n",
            " #   Column            Non-Null Count   Dtype  \n",
            "---  ------            --------------   -----  \n",
            " 0   Date              147197 non-null  object \n",
            " 1   kwh_standardized  147197 non-null  float64\n",
            " 2   source_file       147197 non-null  object \n",
            "dtypes: float64(1), object(2)\n",
            "memory usage: 3.4+ MB\n",
            "None\n"
          ]
        }
      ]
    },
    {
      "cell_type": "markdown",
      "source": [
        "# **Each Files Has How Many Rows?** **plot the output**\n",
        "\n",
        "\n",
        "*   ***output is a dic***\n",
        "\n"
      ],
      "metadata": {
        "id": "yEbtgbkybtOI"
      }
    },
    {
      "cell_type": "code",
      "source": [
        "# @title\n",
        "# Group by 'Utility' and count the rows for each utility\n",
        "utility_row_counts = combined_df.groupby('source_file').size().reset_index(name='Row Count')\n",
        "print(utility_row_counts)\n",
        "\n",
        "\n",
        "# Count how many have records lower than 2314\n",
        "lower_than_2314 = utility_row_counts[utility_row_counts['Row Count'] < 2314]\n",
        "count_lower = len(lower_than_2314)\n",
        "print(f\"Number of source_file columns with records lower than 2314: {count_lower}\")\n",
        "\n",
        "\n",
        "# Count how many have exactly 2314 records\n",
        "equal_to_2314 = utility_row_counts[utility_row_counts['Row Count'] == 2314]\n",
        "count_equal = len(equal_to_2314)\n",
        "print(f\"Number of source_file columns with exactly 2314 records: {count_equal}\")\n",
        "\n",
        "# Get a list of source_file columns with records lower than 2314\n",
        "columns_with_lower = lower_than_2314['source_file'].tolist()\n",
        "print(\"List of source_file columns with records lower than 2314:\")\n",
        "print(columns_with_lower)\n",
        "\n",
        "\n",
        "# Create a dictionary with column names and their record counts\n",
        "source_file_dict = utility_row_counts.set_index('source_file')['Row Count'].to_dict()\n",
        "print(\"Dictionary of source_file columns and their record counts:\")\n",
        "print(source_file_dict)\n",
        "\n"
      ],
      "metadata": {
        "colab": {
          "base_uri": "https://localhost:8080/"
        },
        "collapsed": true,
        "id": "Ff9Qp5wsiFEX",
        "outputId": "7344dfae-d09c-4927-edc6-c2bdf438feb1"
      },
      "execution_count": 4,
      "outputs": [
        {
          "output_type": "stream",
          "name": "stdout",
          "text": [
            "                   source_file  Row Count\n",
            "0                 CAMFIL_2.xls       2314\n",
            "1                 CAMFIL_5.xls       1444\n",
            "2             CENT_TERMICA.xls       2314\n",
            "3                CHILLER_1.xls       2314\n",
            "4                CHILLER_2.xls       2314\n",
            "..                         ...        ...\n",
            "61         UTENZE_TECNOLOG.xls       2303\n",
            "62     UTENZE_TECN_LOTTO_B.xls       2218\n",
            "63  UTILITIES_GLOBAL_12345.xls       2314\n",
            "64                   WIPES.xls       2314\n",
            "65              chiller_1c.xls       2303\n",
            "\n",
            "[66 rows x 2 columns]\n",
            "Number of source_file columns with records lower than 2314: 30\n",
            "Number of source_file columns with exactly 2314 records: 36\n",
            "List of source_file columns with records lower than 2314:\n",
            "['CAMFIL_5.xls', 'CHILLER_3_LOTTO_C.xls', 'CHILLER_4_LOTTO_C.xls', 'COMPRESSORI.xls', 'COMPR_VUOTO.xls', 'COV.xls', 'FAX_15.xls', 'FIX_2.xls', 'FIX_4.xls', 'FNL_3.xls', 'FNL_8.xls', 'GEN_LOTTO_B.xls', 'HYBRID.xls', 'IDROFILTRO_2C.xls', 'IDROFILTRO_4.xls', 'MAG_PROD_FINITO_1.xls', 'MAG_PROD_FINITO_2.xls', 'MAG_PROD_FINITO_3.xls', 'PRIMAVERA.xls', 'QD01C_NORMALE.xls', 'QD01C_PREFERENZIALE.xls', 'QD02C_NORMALE.xls', 'QD02C_PREFERENZIALE.xls', 'QUADRO_ASPIRATORI.xls', 'RULLIERE_LOTTO_B.xls', 'SERV_CELLE_FRIGO.xls', 'TRIM_REMOVAL_C.xls', 'UTENZE_TECNOLOG.xls', 'UTENZE_TECN_LOTTO_B.xls', 'chiller_1c.xls']\n",
            "Dictionary of source_file columns and their record counts:\n",
            "{'CAMFIL_2.xls': 2314, 'CAMFIL_5.xls': 1444, 'CENT_TERMICA.xls': 2314, 'CHILLER_1.xls': 2314, 'CHILLER_2.xls': 2314, 'CHILLER_3_LOTTO_C.xls': 2249, 'CHILLER_4_LOTTO_C.xls': 2249, 'COGENERATORE.xls': 2314, 'COMPRESSORI.xls': 2303, 'COMPR_VUOTO.xls': 2303, 'COV.xls': 2220, 'CTRL_FREDDO.xls': 2314, 'CTRL_IDRICA.xls': 2314, 'DELTA_CAB_A.xls': 2314, 'DELTA_CAB_B.xls': 2314, 'DELTA_CAB_C.xls': 2314, 'DRY_FILTRATION.xls': 2314, 'FAX_15.xls': 1882, 'FGC1_TOT.xls': 2314, 'FGC2_TOT.xls': 2314, 'FGC3_TOT.xls': 2314, 'FGC_5.xls': 2314, 'FIX_2.xls': 2218, 'FIX_3.xls': 2314, 'FIX_4.xls': 2218, 'FIX_5.xls': 2314, 'FNL_3.xls': 2207, 'FNL_8.xls': 2010, 'GEN_LOTTO_B.xls': 2303, 'GLICOLE.xls': 2314, 'GLOBAL_2.xls': 2314, 'GLOBAL_3.xls': 2314, 'GLOBAL_4.xls': 2314, 'GLOBAL_5.xls': 2314, 'GLOBAL_7.xls': 2314, 'HYBRID.xls': 2278, 'IDROFILTRO_1C.xls': 2314, 'IDROFILTRO_2C.xls': 1568, 'IDROFILTRO_4.xls': 2249, 'INGEGNERIA.xls': 2314, 'LGV.xls': 2314, 'LUCI_LOTTOB.xls': 2314, 'MAG_PROD_FINITO_1.xls': 2303, 'MAG_PROD_FINITO_2.xls': 2303, 'MAG_PROD_FINITO_3.xls': 2303, 'OSPREY3+CAMFIL3.xls': 2314, 'PRIMAVERA.xls': 2205, 'QD01C_NORMALE.xls': 1805, 'QD01C_PREFERENZIALE.xls': 1805, 'QD02C_NORMALE.xls': 1814, 'QD02C_PREFERENZIALE.xls': 1814, 'QSP1.xls': 2314, 'QSP2.xls': 2314, 'QSP3_OSPREY1.xls': 2314, 'QUADRO_ASPIRATORI.xls': 2205, 'RULLIERE_LOTTO_B.xls': 2205, 'SERV_CELLE_FRIGO.xls': 2303, 'TRIMMER_REMOVAL_A+CVC.xls': 2314, 'TRIM_REMOVAL_C.xls': 2303, 'UTA_A.xls': 2314, 'UTA_B.xls': 2314, 'UTENZE_TECNOLOG.xls': 2303, 'UTENZE_TECN_LOTTO_B.xls': 2218, 'UTILITIES_GLOBAL_12345.xls': 2314, 'WIPES.xls': 2314, 'chiller_1c.xls': 2303}\n"
          ]
        }
      ]
    },
    {
      "cell_type": "markdown",
      "source": [
        "# **BEST WAY OF VISUALIZATION**"
      ],
      "metadata": {
        "id": "jTE7vnvQd25z"
      }
    },
    {
      "cell_type": "code",
      "source": [
        "# @title\n",
        "import plotly.express as px\n",
        "\n",
        "# Create interactive bar chart\n",
        "fig = px.bar(utility_row_counts, x='source_file', y='Row Count', title='Row Count for Each Utility')\n",
        "fig.update_layout(xaxis=dict(tickangle=45))\n",
        "fig.show()\n"
      ],
      "metadata": {
        "colab": {
          "base_uri": "https://localhost:8080/",
          "height": 542
        },
        "collapsed": true,
        "id": "RQtAnYbEdUDM",
        "outputId": "6625391b-16c3-4544-eee4-57a85c17d6a7"
      },
      "execution_count": 13,
      "outputs": [
        {
          "output_type": "display_data",
          "data": {
            "text/html": [
              "<html>\n",
              "<head><meta charset=\"utf-8\" /></head>\n",
              "<body>\n",
              "    <div>            <script src=\"https://cdnjs.cloudflare.com/ajax/libs/mathjax/2.7.5/MathJax.js?config=TeX-AMS-MML_SVG\"></script><script type=\"text/javascript\">if (window.MathJax && window.MathJax.Hub && window.MathJax.Hub.Config) {window.MathJax.Hub.Config({SVG: {font: \"STIX-Web\"}});}</script>                <script type=\"text/javascript\">window.PlotlyConfig = {MathJaxConfig: 'local'};</script>\n",
              "        <script charset=\"utf-8\" src=\"https://cdn.plot.ly/plotly-2.35.2.min.js\"></script>                <div id=\"5f701e68-c499-4211-a616-ff1a7d274e6e\" class=\"plotly-graph-div\" style=\"height:525px; width:100%;\"></div>            <script type=\"text/javascript\">                                    window.PLOTLYENV=window.PLOTLYENV || {};                                    if (document.getElementById(\"5f701e68-c499-4211-a616-ff1a7d274e6e\")) {                    Plotly.newPlot(                        \"5f701e68-c499-4211-a616-ff1a7d274e6e\",                        [{\"alignmentgroup\":\"True\",\"hovertemplate\":\"source_file=%{x}\\u003cbr\\u003eRow Count=%{y}\\u003cextra\\u003e\\u003c\\u002fextra\\u003e\",\"legendgroup\":\"\",\"marker\":{\"color\":\"#636efa\",\"pattern\":{\"shape\":\"\"}},\"name\":\"\",\"offsetgroup\":\"\",\"orientation\":\"v\",\"showlegend\":false,\"textposition\":\"auto\",\"x\":[\"CAMFIL_2.xls\",\"CAMFIL_5.xls\",\"CENT_TERMICA.xls\",\"CHILLER_1.xls\",\"CHILLER_2.xls\",\"CHILLER_3_LOTTO_C.xls\",\"CHILLER_4_LOTTO_C.xls\",\"COGENERATORE.xls\",\"COMPRESSORI.xls\",\"COMPR_VUOTO.xls\",\"COV.xls\",\"CTRL_FREDDO.xls\",\"CTRL_IDRICA.xls\",\"DELTA_CAB_A.xls\",\"DELTA_CAB_B.xls\",\"DELTA_CAB_C.xls\",\"DRY_FILTRATION.xls\",\"FAX_15.xls\",\"FGC1_TOT.xls\",\"FGC2_TOT.xls\",\"FGC3_TOT.xls\",\"FGC_5.xls\",\"FIX_2.xls\",\"FIX_3.xls\",\"FIX_4.xls\",\"FIX_5.xls\",\"FNL_3.xls\",\"FNL_8.xls\",\"GEN_LOTTO_B.xls\",\"GLICOLE.xls\",\"GLOBAL_2.xls\",\"GLOBAL_3.xls\",\"GLOBAL_4.xls\",\"GLOBAL_5.xls\",\"GLOBAL_7.xls\",\"HYBRID.xls\",\"IDROFILTRO_1C.xls\",\"IDROFILTRO_2C.xls\",\"IDROFILTRO_4.xls\",\"INGEGNERIA.xls\",\"LGV.xls\",\"LUCI_LOTTOB.xls\",\"MAG_PROD_FINITO_1.xls\",\"MAG_PROD_FINITO_2.xls\",\"MAG_PROD_FINITO_3.xls\",\"OSPREY3+CAMFIL3.xls\",\"PRIMAVERA.xls\",\"QD01C_NORMALE.xls\",\"QD01C_PREFERENZIALE.xls\",\"QD02C_NORMALE.xls\",\"QD02C_PREFERENZIALE.xls\",\"QSP1.xls\",\"QSP2.xls\",\"QSP3_OSPREY1.xls\",\"QUADRO_ASPIRATORI.xls\",\"RULLIERE_LOTTO_B.xls\",\"SERV_CELLE_FRIGO.xls\",\"TRIMMER_REMOVAL_A+CVC.xls\",\"TRIM_REMOVAL_C.xls\",\"UTA_A.xls\",\"UTA_B.xls\",\"UTENZE_TECNOLOG.xls\",\"UTENZE_TECN_LOTTO_B.xls\",\"UTILITIES_GLOBAL_12345.xls\",\"WIPES.xls\",\"chiller_1c.xls\"],\"xaxis\":\"x\",\"y\":[2314,1444,2314,2314,2314,2249,2249,2314,2303,2303,2220,2314,2314,2314,2314,2314,2314,1882,2314,2314,2314,2314,2218,2314,2218,2314,2207,2010,2303,2314,2314,2314,2314,2314,2314,2278,2314,1568,2249,2314,2314,2314,2303,2303,2303,2314,2205,1805,1805,1814,1814,2314,2314,2314,2205,2205,2303,2314,2303,2314,2314,2303,2218,2314,2314,2303],\"yaxis\":\"y\",\"type\":\"bar\"}],                        {\"template\":{\"data\":{\"histogram2dcontour\":[{\"type\":\"histogram2dcontour\",\"colorbar\":{\"outlinewidth\":0,\"ticks\":\"\"},\"colorscale\":[[0.0,\"#0d0887\"],[0.1111111111111111,\"#46039f\"],[0.2222222222222222,\"#7201a8\"],[0.3333333333333333,\"#9c179e\"],[0.4444444444444444,\"#bd3786\"],[0.5555555555555556,\"#d8576b\"],[0.6666666666666666,\"#ed7953\"],[0.7777777777777778,\"#fb9f3a\"],[0.8888888888888888,\"#fdca26\"],[1.0,\"#f0f921\"]]}],\"choropleth\":[{\"type\":\"choropleth\",\"colorbar\":{\"outlinewidth\":0,\"ticks\":\"\"}}],\"histogram2d\":[{\"type\":\"histogram2d\",\"colorbar\":{\"outlinewidth\":0,\"ticks\":\"\"},\"colorscale\":[[0.0,\"#0d0887\"],[0.1111111111111111,\"#46039f\"],[0.2222222222222222,\"#7201a8\"],[0.3333333333333333,\"#9c179e\"],[0.4444444444444444,\"#bd3786\"],[0.5555555555555556,\"#d8576b\"],[0.6666666666666666,\"#ed7953\"],[0.7777777777777778,\"#fb9f3a\"],[0.8888888888888888,\"#fdca26\"],[1.0,\"#f0f921\"]]}],\"heatmap\":[{\"type\":\"heatmap\",\"colorbar\":{\"outlinewidth\":0,\"ticks\":\"\"},\"colorscale\":[[0.0,\"#0d0887\"],[0.1111111111111111,\"#46039f\"],[0.2222222222222222,\"#7201a8\"],[0.3333333333333333,\"#9c179e\"],[0.4444444444444444,\"#bd3786\"],[0.5555555555555556,\"#d8576b\"],[0.6666666666666666,\"#ed7953\"],[0.7777777777777778,\"#fb9f3a\"],[0.8888888888888888,\"#fdca26\"],[1.0,\"#f0f921\"]]}],\"heatmapgl\":[{\"type\":\"heatmapgl\",\"colorbar\":{\"outlinewidth\":0,\"ticks\":\"\"},\"colorscale\":[[0.0,\"#0d0887\"],[0.1111111111111111,\"#46039f\"],[0.2222222222222222,\"#7201a8\"],[0.3333333333333333,\"#9c179e\"],[0.4444444444444444,\"#bd3786\"],[0.5555555555555556,\"#d8576b\"],[0.6666666666666666,\"#ed7953\"],[0.7777777777777778,\"#fb9f3a\"],[0.8888888888888888,\"#fdca26\"],[1.0,\"#f0f921\"]]}],\"contourcarpet\":[{\"type\":\"contourcarpet\",\"colorbar\":{\"outlinewidth\":0,\"ticks\":\"\"}}],\"contour\":[{\"type\":\"contour\",\"colorbar\":{\"outlinewidth\":0,\"ticks\":\"\"},\"colorscale\":[[0.0,\"#0d0887\"],[0.1111111111111111,\"#46039f\"],[0.2222222222222222,\"#7201a8\"],[0.3333333333333333,\"#9c179e\"],[0.4444444444444444,\"#bd3786\"],[0.5555555555555556,\"#d8576b\"],[0.6666666666666666,\"#ed7953\"],[0.7777777777777778,\"#fb9f3a\"],[0.8888888888888888,\"#fdca26\"],[1.0,\"#f0f921\"]]}],\"surface\":[{\"type\":\"surface\",\"colorbar\":{\"outlinewidth\":0,\"ticks\":\"\"},\"colorscale\":[[0.0,\"#0d0887\"],[0.1111111111111111,\"#46039f\"],[0.2222222222222222,\"#7201a8\"],[0.3333333333333333,\"#9c179e\"],[0.4444444444444444,\"#bd3786\"],[0.5555555555555556,\"#d8576b\"],[0.6666666666666666,\"#ed7953\"],[0.7777777777777778,\"#fb9f3a\"],[0.8888888888888888,\"#fdca26\"],[1.0,\"#f0f921\"]]}],\"mesh3d\":[{\"type\":\"mesh3d\",\"colorbar\":{\"outlinewidth\":0,\"ticks\":\"\"}}],\"scatter\":[{\"fillpattern\":{\"fillmode\":\"overlay\",\"size\":10,\"solidity\":0.2},\"type\":\"scatter\"}],\"parcoords\":[{\"type\":\"parcoords\",\"line\":{\"colorbar\":{\"outlinewidth\":0,\"ticks\":\"\"}}}],\"scatterpolargl\":[{\"type\":\"scatterpolargl\",\"marker\":{\"colorbar\":{\"outlinewidth\":0,\"ticks\":\"\"}}}],\"bar\":[{\"error_x\":{\"color\":\"#2a3f5f\"},\"error_y\":{\"color\":\"#2a3f5f\"},\"marker\":{\"line\":{\"color\":\"#E5ECF6\",\"width\":0.5},\"pattern\":{\"fillmode\":\"overlay\",\"size\":10,\"solidity\":0.2}},\"type\":\"bar\"}],\"scattergeo\":[{\"type\":\"scattergeo\",\"marker\":{\"colorbar\":{\"outlinewidth\":0,\"ticks\":\"\"}}}],\"scatterpolar\":[{\"type\":\"scatterpolar\",\"marker\":{\"colorbar\":{\"outlinewidth\":0,\"ticks\":\"\"}}}],\"histogram\":[{\"marker\":{\"pattern\":{\"fillmode\":\"overlay\",\"size\":10,\"solidity\":0.2}},\"type\":\"histogram\"}],\"scattergl\":[{\"type\":\"scattergl\",\"marker\":{\"colorbar\":{\"outlinewidth\":0,\"ticks\":\"\"}}}],\"scatter3d\":[{\"type\":\"scatter3d\",\"line\":{\"colorbar\":{\"outlinewidth\":0,\"ticks\":\"\"}},\"marker\":{\"colorbar\":{\"outlinewidth\":0,\"ticks\":\"\"}}}],\"scattermapbox\":[{\"type\":\"scattermapbox\",\"marker\":{\"colorbar\":{\"outlinewidth\":0,\"ticks\":\"\"}}}],\"scatterternary\":[{\"type\":\"scatterternary\",\"marker\":{\"colorbar\":{\"outlinewidth\":0,\"ticks\":\"\"}}}],\"scattercarpet\":[{\"type\":\"scattercarpet\",\"marker\":{\"colorbar\":{\"outlinewidth\":0,\"ticks\":\"\"}}}],\"carpet\":[{\"aaxis\":{\"endlinecolor\":\"#2a3f5f\",\"gridcolor\":\"white\",\"linecolor\":\"white\",\"minorgridcolor\":\"white\",\"startlinecolor\":\"#2a3f5f\"},\"baxis\":{\"endlinecolor\":\"#2a3f5f\",\"gridcolor\":\"white\",\"linecolor\":\"white\",\"minorgridcolor\":\"white\",\"startlinecolor\":\"#2a3f5f\"},\"type\":\"carpet\"}],\"table\":[{\"cells\":{\"fill\":{\"color\":\"#EBF0F8\"},\"line\":{\"color\":\"white\"}},\"header\":{\"fill\":{\"color\":\"#C8D4E3\"},\"line\":{\"color\":\"white\"}},\"type\":\"table\"}],\"barpolar\":[{\"marker\":{\"line\":{\"color\":\"#E5ECF6\",\"width\":0.5},\"pattern\":{\"fillmode\":\"overlay\",\"size\":10,\"solidity\":0.2}},\"type\":\"barpolar\"}],\"pie\":[{\"automargin\":true,\"type\":\"pie\"}]},\"layout\":{\"autotypenumbers\":\"strict\",\"colorway\":[\"#636efa\",\"#EF553B\",\"#00cc96\",\"#ab63fa\",\"#FFA15A\",\"#19d3f3\",\"#FF6692\",\"#B6E880\",\"#FF97FF\",\"#FECB52\"],\"font\":{\"color\":\"#2a3f5f\"},\"hovermode\":\"closest\",\"hoverlabel\":{\"align\":\"left\"},\"paper_bgcolor\":\"white\",\"plot_bgcolor\":\"#E5ECF6\",\"polar\":{\"bgcolor\":\"#E5ECF6\",\"angularaxis\":{\"gridcolor\":\"white\",\"linecolor\":\"white\",\"ticks\":\"\"},\"radialaxis\":{\"gridcolor\":\"white\",\"linecolor\":\"white\",\"ticks\":\"\"}},\"ternary\":{\"bgcolor\":\"#E5ECF6\",\"aaxis\":{\"gridcolor\":\"white\",\"linecolor\":\"white\",\"ticks\":\"\"},\"baxis\":{\"gridcolor\":\"white\",\"linecolor\":\"white\",\"ticks\":\"\"},\"caxis\":{\"gridcolor\":\"white\",\"linecolor\":\"white\",\"ticks\":\"\"}},\"coloraxis\":{\"colorbar\":{\"outlinewidth\":0,\"ticks\":\"\"}},\"colorscale\":{\"sequential\":[[0.0,\"#0d0887\"],[0.1111111111111111,\"#46039f\"],[0.2222222222222222,\"#7201a8\"],[0.3333333333333333,\"#9c179e\"],[0.4444444444444444,\"#bd3786\"],[0.5555555555555556,\"#d8576b\"],[0.6666666666666666,\"#ed7953\"],[0.7777777777777778,\"#fb9f3a\"],[0.8888888888888888,\"#fdca26\"],[1.0,\"#f0f921\"]],\"sequentialminus\":[[0.0,\"#0d0887\"],[0.1111111111111111,\"#46039f\"],[0.2222222222222222,\"#7201a8\"],[0.3333333333333333,\"#9c179e\"],[0.4444444444444444,\"#bd3786\"],[0.5555555555555556,\"#d8576b\"],[0.6666666666666666,\"#ed7953\"],[0.7777777777777778,\"#fb9f3a\"],[0.8888888888888888,\"#fdca26\"],[1.0,\"#f0f921\"]],\"diverging\":[[0,\"#8e0152\"],[0.1,\"#c51b7d\"],[0.2,\"#de77ae\"],[0.3,\"#f1b6da\"],[0.4,\"#fde0ef\"],[0.5,\"#f7f7f7\"],[0.6,\"#e6f5d0\"],[0.7,\"#b8e186\"],[0.8,\"#7fbc41\"],[0.9,\"#4d9221\"],[1,\"#276419\"]]},\"xaxis\":{\"gridcolor\":\"white\",\"linecolor\":\"white\",\"ticks\":\"\",\"title\":{\"standoff\":15},\"zerolinecolor\":\"white\",\"automargin\":true,\"zerolinewidth\":2},\"yaxis\":{\"gridcolor\":\"white\",\"linecolor\":\"white\",\"ticks\":\"\",\"title\":{\"standoff\":15},\"zerolinecolor\":\"white\",\"automargin\":true,\"zerolinewidth\":2},\"scene\":{\"xaxis\":{\"backgroundcolor\":\"#E5ECF6\",\"gridcolor\":\"white\",\"linecolor\":\"white\",\"showbackground\":true,\"ticks\":\"\",\"zerolinecolor\":\"white\",\"gridwidth\":2},\"yaxis\":{\"backgroundcolor\":\"#E5ECF6\",\"gridcolor\":\"white\",\"linecolor\":\"white\",\"showbackground\":true,\"ticks\":\"\",\"zerolinecolor\":\"white\",\"gridwidth\":2},\"zaxis\":{\"backgroundcolor\":\"#E5ECF6\",\"gridcolor\":\"white\",\"linecolor\":\"white\",\"showbackground\":true,\"ticks\":\"\",\"zerolinecolor\":\"white\",\"gridwidth\":2}},\"shapedefaults\":{\"line\":{\"color\":\"#2a3f5f\"}},\"annotationdefaults\":{\"arrowcolor\":\"#2a3f5f\",\"arrowhead\":0,\"arrowwidth\":1},\"geo\":{\"bgcolor\":\"white\",\"landcolor\":\"#E5ECF6\",\"subunitcolor\":\"white\",\"showland\":true,\"showlakes\":true,\"lakecolor\":\"white\"},\"title\":{\"x\":0.05},\"mapbox\":{\"style\":\"light\"}}},\"xaxis\":{\"anchor\":\"y\",\"domain\":[0.0,1.0],\"title\":{\"text\":\"source_file\"},\"tickangle\":45},\"yaxis\":{\"anchor\":\"x\",\"domain\":[0.0,1.0],\"title\":{\"text\":\"Row Count\"}},\"legend\":{\"tracegroupgap\":0},\"title\":{\"text\":\"Row Count for Each Utility\"},\"barmode\":\"relative\"},                        {\"responsive\": true}                    ).then(function(){\n",
              "                            \n",
              "var gd = document.getElementById('5f701e68-c499-4211-a616-ff1a7d274e6e');\n",
              "var x = new MutationObserver(function (mutations, observer) {{\n",
              "        var display = window.getComputedStyle(gd).display;\n",
              "        if (!display || display === 'none') {{\n",
              "            console.log([gd, 'removed!']);\n",
              "            Plotly.purge(gd);\n",
              "            observer.disconnect();\n",
              "        }}\n",
              "}});\n",
              "\n",
              "// Listen for the removal of the full notebook cells\n",
              "var notebookContainer = gd.closest('#notebook-container');\n",
              "if (notebookContainer) {{\n",
              "    x.observe(notebookContainer, {childList: true});\n",
              "}}\n",
              "\n",
              "// Listen for the clearing of the current output cell\n",
              "var outputEl = gd.closest('.output');\n",
              "if (outputEl) {{\n",
              "    x.observe(outputEl, {childList: true});\n",
              "}}\n",
              "\n",
              "                        })                };                            </script>        </div>\n",
              "</body>\n",
              "</html>"
            ]
          },
          "metadata": {}
        }
      ]
    },
    {
      "cell_type": "markdown",
      "source": [
        "# **Upload 8 Excels Files**"
      ],
      "metadata": {
        "id": "0u4mar6a6N7n"
      }
    },
    {
      "cell_type": "code",
      "source": [
        "# Upload the file\n",
        "uploaded = files.upload()"
      ],
      "metadata": {
        "colab": {
          "base_uri": "https://localhost:8080/",
          "height": 316
        },
        "id": "n1k2a1r46ga7",
        "outputId": "4d26c49d-1824-42dc-b488-8c57c666bb07"
      },
      "execution_count": 6,
      "outputs": [
        {
          "output_type": "display_data",
          "data": {
            "text/plain": [
              "<IPython.core.display.HTML object>"
            ],
            "text/html": [
              "\n",
              "     <input type=\"file\" id=\"files-ead86c13-2715-499e-8849-05b1d6705810\" name=\"files[]\" multiple disabled\n",
              "        style=\"border:none\" />\n",
              "     <output id=\"result-ead86c13-2715-499e-8849-05b1d6705810\">\n",
              "      Upload widget is only available when the cell has been executed in the\n",
              "      current browser session. Please rerun this cell to enable.\n",
              "      </output>\n",
              "      <script>// Copyright 2017 Google LLC\n",
              "//\n",
              "// Licensed under the Apache License, Version 2.0 (the \"License\");\n",
              "// you may not use this file except in compliance with the License.\n",
              "// You may obtain a copy of the License at\n",
              "//\n",
              "//      http://www.apache.org/licenses/LICENSE-2.0\n",
              "//\n",
              "// Unless required by applicable law or agreed to in writing, software\n",
              "// distributed under the License is distributed on an \"AS IS\" BASIS,\n",
              "// WITHOUT WARRANTIES OR CONDITIONS OF ANY KIND, either express or implied.\n",
              "// See the License for the specific language governing permissions and\n",
              "// limitations under the License.\n",
              "\n",
              "/**\n",
              " * @fileoverview Helpers for google.colab Python module.\n",
              " */\n",
              "(function(scope) {\n",
              "function span(text, styleAttributes = {}) {\n",
              "  const element = document.createElement('span');\n",
              "  element.textContent = text;\n",
              "  for (const key of Object.keys(styleAttributes)) {\n",
              "    element.style[key] = styleAttributes[key];\n",
              "  }\n",
              "  return element;\n",
              "}\n",
              "\n",
              "// Max number of bytes which will be uploaded at a time.\n",
              "const MAX_PAYLOAD_SIZE = 100 * 1024;\n",
              "\n",
              "function _uploadFiles(inputId, outputId) {\n",
              "  const steps = uploadFilesStep(inputId, outputId);\n",
              "  const outputElement = document.getElementById(outputId);\n",
              "  // Cache steps on the outputElement to make it available for the next call\n",
              "  // to uploadFilesContinue from Python.\n",
              "  outputElement.steps = steps;\n",
              "\n",
              "  return _uploadFilesContinue(outputId);\n",
              "}\n",
              "\n",
              "// This is roughly an async generator (not supported in the browser yet),\n",
              "// where there are multiple asynchronous steps and the Python side is going\n",
              "// to poll for completion of each step.\n",
              "// This uses a Promise to block the python side on completion of each step,\n",
              "// then passes the result of the previous step as the input to the next step.\n",
              "function _uploadFilesContinue(outputId) {\n",
              "  const outputElement = document.getElementById(outputId);\n",
              "  const steps = outputElement.steps;\n",
              "\n",
              "  const next = steps.next(outputElement.lastPromiseValue);\n",
              "  return Promise.resolve(next.value.promise).then((value) => {\n",
              "    // Cache the last promise value to make it available to the next\n",
              "    // step of the generator.\n",
              "    outputElement.lastPromiseValue = value;\n",
              "    return next.value.response;\n",
              "  });\n",
              "}\n",
              "\n",
              "/**\n",
              " * Generator function which is called between each async step of the upload\n",
              " * process.\n",
              " * @param {string} inputId Element ID of the input file picker element.\n",
              " * @param {string} outputId Element ID of the output display.\n",
              " * @return {!Iterable<!Object>} Iterable of next steps.\n",
              " */\n",
              "function* uploadFilesStep(inputId, outputId) {\n",
              "  const inputElement = document.getElementById(inputId);\n",
              "  inputElement.disabled = false;\n",
              "\n",
              "  const outputElement = document.getElementById(outputId);\n",
              "  outputElement.innerHTML = '';\n",
              "\n",
              "  const pickedPromise = new Promise((resolve) => {\n",
              "    inputElement.addEventListener('change', (e) => {\n",
              "      resolve(e.target.files);\n",
              "    });\n",
              "  });\n",
              "\n",
              "  const cancel = document.createElement('button');\n",
              "  inputElement.parentElement.appendChild(cancel);\n",
              "  cancel.textContent = 'Cancel upload';\n",
              "  const cancelPromise = new Promise((resolve) => {\n",
              "    cancel.onclick = () => {\n",
              "      resolve(null);\n",
              "    };\n",
              "  });\n",
              "\n",
              "  // Wait for the user to pick the files.\n",
              "  const files = yield {\n",
              "    promise: Promise.race([pickedPromise, cancelPromise]),\n",
              "    response: {\n",
              "      action: 'starting',\n",
              "    }\n",
              "  };\n",
              "\n",
              "  cancel.remove();\n",
              "\n",
              "  // Disable the input element since further picks are not allowed.\n",
              "  inputElement.disabled = true;\n",
              "\n",
              "  if (!files) {\n",
              "    return {\n",
              "      response: {\n",
              "        action: 'complete',\n",
              "      }\n",
              "    };\n",
              "  }\n",
              "\n",
              "  for (const file of files) {\n",
              "    const li = document.createElement('li');\n",
              "    li.append(span(file.name, {fontWeight: 'bold'}));\n",
              "    li.append(span(\n",
              "        `(${file.type || 'n/a'}) - ${file.size} bytes, ` +\n",
              "        `last modified: ${\n",
              "            file.lastModifiedDate ? file.lastModifiedDate.toLocaleDateString() :\n",
              "                                    'n/a'} - `));\n",
              "    const percent = span('0% done');\n",
              "    li.appendChild(percent);\n",
              "\n",
              "    outputElement.appendChild(li);\n",
              "\n",
              "    const fileDataPromise = new Promise((resolve) => {\n",
              "      const reader = new FileReader();\n",
              "      reader.onload = (e) => {\n",
              "        resolve(e.target.result);\n",
              "      };\n",
              "      reader.readAsArrayBuffer(file);\n",
              "    });\n",
              "    // Wait for the data to be ready.\n",
              "    let fileData = yield {\n",
              "      promise: fileDataPromise,\n",
              "      response: {\n",
              "        action: 'continue',\n",
              "      }\n",
              "    };\n",
              "\n",
              "    // Use a chunked sending to avoid message size limits. See b/62115660.\n",
              "    let position = 0;\n",
              "    do {\n",
              "      const length = Math.min(fileData.byteLength - position, MAX_PAYLOAD_SIZE);\n",
              "      const chunk = new Uint8Array(fileData, position, length);\n",
              "      position += length;\n",
              "\n",
              "      const base64 = btoa(String.fromCharCode.apply(null, chunk));\n",
              "      yield {\n",
              "        response: {\n",
              "          action: 'append',\n",
              "          file: file.name,\n",
              "          data: base64,\n",
              "        },\n",
              "      };\n",
              "\n",
              "      let percentDone = fileData.byteLength === 0 ?\n",
              "          100 :\n",
              "          Math.round((position / fileData.byteLength) * 100);\n",
              "      percent.textContent = `${percentDone}% done`;\n",
              "\n",
              "    } while (position < fileData.byteLength);\n",
              "  }\n",
              "\n",
              "  // All done.\n",
              "  yield {\n",
              "    response: {\n",
              "      action: 'complete',\n",
              "    }\n",
              "  };\n",
              "}\n",
              "\n",
              "scope.google = scope.google || {};\n",
              "scope.google.colab = scope.google.colab || {};\n",
              "scope.google.colab._files = {\n",
              "  _uploadFiles,\n",
              "  _uploadFilesContinue,\n",
              "};\n",
              "})(self);\n",
              "</script> "
            ]
          },
          "metadata": {}
        },
        {
          "output_type": "stream",
          "name": "stdout",
          "text": [
            "Saving msu_pe_1617.XLSX to msu_pe_1617.XLSX\n",
            "Saving msu_pe_1718.XLSX to msu_pe_1718.XLSX\n",
            "Saving msu_pe_1819.XLSX to msu_pe_1819.XLSX\n",
            "Saving msu_pe_1920.XLSX to msu_pe_1920.XLSX\n",
            "Saving msu_pe_2021.XLSX to msu_pe_2021.XLSX\n",
            "Saving msu_pe_2122.XLSX to msu_pe_2122.XLSX\n",
            "Saving msu_pe_2223.XLSX to msu_pe_2223.XLSX\n",
            "Saving msu_pe_2324.XLSX to msu_pe_2324.XLSX\n"
          ]
        }
      ]
    },
    {
      "cell_type": "markdown",
      "source": [
        "# **Merging 8 Excels Files**\n",
        "\n",
        "\n",
        "*   **List All The Columns In Both DATASETS**\n",
        "*   **Change Columns name (specially Date columns ((key columns)))**\n",
        "*   **Export Dataset Seperatly**\n",
        "\n"
      ],
      "metadata": {
        "id": "An0dRFg27NYe"
      }
    },
    {
      "cell_type": "code",
      "source": [
        "# Initialize an empty list to store DataFrames\n",
        "dataframes = []\n",
        "\n",
        "# Loop through the uploaded files\n",
        "for file_name in uploaded.keys():\n",
        "    # Read each Excel file and append to the list\n",
        "    df = pd.read_excel(file_name)\n",
        "    dataframes.append(df)\n",
        "\n",
        "# Concatenate all DataFrames into one\n",
        "merged_df = pd.concat(dataframes, ignore_index=True)\n",
        "\n",
        "# Optionally, save the combined dataset to a new Excel file\n",
        "merged_df.to_excel('/content/sample_data/combined_dataset_8excels.xlsx', index=False)\n",
        "\n",
        "# Check the structure of the dataset\n",
        "print(merged_df.info())  # Columns, data types, non-null counts\n",
        "\n",
        "# sum of excel records are 71123"
      ],
      "metadata": {
        "colab": {
          "base_uri": "https://localhost:8080/"
        },
        "id": "4c86cGz_7YWx",
        "outputId": "45377d56-be16-4a8e-c456-f1d05b012a7a"
      },
      "execution_count": 11,
      "outputs": [
        {
          "output_type": "stream",
          "name": "stdout",
          "text": [
            "<class 'pandas.core.frame.DataFrame'>\n",
            "RangeIndex: 71395 entries, 0 to 71394\n",
            "Data columns (total 23 columns):\n",
            " #   Column               Non-Null Count  Dtype         \n",
            "---  ------               --------------  -----         \n",
            " 0   Sem.                 0 non-null      float64       \n",
            " 1   Legenda              71395 non-null  object        \n",
            " 2   Linea di produzione  71363 non-null  object        \n",
            " 3   Materiale            71200 non-null  float64       \n",
            " 4   Versione di prod.    0 non-null      float64       \n",
            " 5   Data prod.           71200 non-null  datetime64[ns]\n",
            " 6   Turno                0 non-null      float64       \n",
            " 7   %TSR                 71395 non-null  float64       \n",
            " 8   % Scarto             71395 non-null  float64       \n",
            " 9   % Sched. Util.       71395 non-null  float64       \n",
            " 10  % Rate Util.         71395 non-null  float64       \n",
            " 11  % CU                 71395 non-null  float64       \n",
            " 12  Resa                 71395 non-null  float64       \n",
            " 13  Pz / min             71395 non-null  float64       \n",
            " 14  PZ Buoni in UMA      71395 non-null  float64       \n",
            " 15  UMA                  71395 non-null  object        \n",
            " 16  PZ Buoni             71395 non-null  int64         \n",
            " 17  PZ Totali            71395 non-null  int64         \n",
            " 18  PZ Scarto            71395 non-null  int64         \n",
            " 19  TN (min)             71395 non-null  object        \n",
            " 20  PZ/CAR               71395 non-null  int64         \n",
            " 21  PZ Totali in UMA     71395 non-null  float64       \n",
            " 22  PZ Scarto in UMA     71395 non-null  float64       \n",
            "dtypes: datetime64[ns](1), float64(14), int64(4), object(4)\n",
            "memory usage: 12.5+ MB\n",
            "None\n"
          ]
        }
      ]
    },
    {
      "cell_type": "code",
      "source": [
        "# Rename specific columns\n",
        "merged_df = merged_df.rename(columns={\n",
        "    'Data prod.': 'Date'\n",
        "})"
      ],
      "metadata": {
        "id": "TqBbbjcQInCp"
      },
      "execution_count": 12,
      "outputs": []
    }
  ]
}